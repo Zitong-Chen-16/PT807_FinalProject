{
 "cells": [
  {
   "cell_type": "markdown",
   "id": "8e94a4b9-e8d1-4d46-8230-989753ed045a",
   "metadata": {},
   "source": [
    "### Find chiral molecules"
   ]
  },
  {
   "cell_type": "code",
   "execution_count": 24,
   "id": "59b9df1b-5dea-40bc-a0ac-4b727bce76ed",
   "metadata": {},
   "outputs": [],
   "source": [
    "from rdkit import Chem\n",
    "import numpy as np\n",
    "from pathlib import Path\n",
    "import pandas as pd\n",
    "from tqdm import tqdm"
   ]
  },
  {
   "cell_type": "code",
   "execution_count": 42,
   "id": "c2de43bf-8ccf-4d85-9839-83838bf34388",
   "metadata": {},
   "outputs": [],
   "source": [
    "data_dir = Path('data/geom/')"
   ]
  },
  {
   "cell_type": "code",
   "execution_count": 43,
   "id": "f255a579-9f7f-41ce-a53f-9541d379c0a2",
   "metadata": {},
   "outputs": [],
   "source": [
    "save_file = Path(\"geom_drugs_30.npy\")\n",
    "smiles_list_file = Path('geom_drugs_smiles.txt')\n",
    "number_atoms_file = Path(\"geom_drugs_n_30.npy\")"
   ]
  },
  {
   "cell_type": "code",
   "execution_count": 47,
   "id": "2e0e3b79-7098-40d5-8246-c0131ed6a498",
   "metadata": {},
   "outputs": [
    {
     "name": "stdout",
     "output_type": "stream",
     "text": [
      "all_data shape: (322877623, 5)\n"
     ]
    }
   ],
   "source": [
    "all_data = np.load(data_dir / save_file)  # 2d array: num_atoms x 5\n",
    "mol_id = all_data[:, 0].astype(int)\n",
    "conformers = all_data[:, 1:]\n",
    "print(f'all_data shape: {all_data.shape}')"
   ]
  },
  {
   "cell_type": "code",
   "execution_count": 22,
   "id": "fcaef620-ea08-4a9b-b7a8-7e7a08113d64",
   "metadata": {},
   "outputs": [
    {
     "data": {
      "text/html": [
       "<div>\n",
       "<style scoped>\n",
       "    .dataframe tbody tr th:only-of-type {\n",
       "        vertical-align: middle;\n",
       "    }\n",
       "\n",
       "    .dataframe tbody tr th {\n",
       "        vertical-align: top;\n",
       "    }\n",
       "\n",
       "    .dataframe thead th {\n",
       "        text-align: right;\n",
       "    }\n",
       "</style>\n",
       "<table border=\"1\" class=\"dataframe\">\n",
       "  <thead>\n",
       "    <tr style=\"text-align: right;\">\n",
       "      <th></th>\n",
       "      <th>smiles</th>\n",
       "    </tr>\n",
       "  </thead>\n",
       "  <tbody>\n",
       "    <tr>\n",
       "      <th>0</th>\n",
       "      <td>C=CCn1c(CSc2nc3ccccc3s2)nnc1SCC(=O)NCc1ccco1</td>\n",
       "    </tr>\n",
       "    <tr>\n",
       "      <th>1</th>\n",
       "      <td>Nc1nc2nc(-c3ccc(OCc4ccccc4)cc3)cc(C(F)(F)F)n2n1</td>\n",
       "    </tr>\n",
       "    <tr>\n",
       "      <th>2</th>\n",
       "      <td>CCOc1ccc(OC(=O)C(CCS(C)(=O)=O)N2C(=O)c3ccccc3C...</td>\n",
       "    </tr>\n",
       "    <tr>\n",
       "      <th>3</th>\n",
       "      <td>Clc1ccc(-c2nnc3n2CCCS3)cc1</td>\n",
       "    </tr>\n",
       "    <tr>\n",
       "      <th>4</th>\n",
       "      <td>CN(C(=O)/C(N=Nc1cccc(C(F)(F)F)c1)=C(\\O)C(F)(F)...</td>\n",
       "    </tr>\n",
       "  </tbody>\n",
       "</table>\n",
       "</div>"
      ],
      "text/plain": [
       "                                              smiles\n",
       "0       C=CCn1c(CSc2nc3ccccc3s2)nnc1SCC(=O)NCc1ccco1\n",
       "1    Nc1nc2nc(-c3ccc(OCc4ccccc4)cc3)cc(C(F)(F)F)n2n1\n",
       "2  CCOc1ccc(OC(=O)C(CCS(C)(=O)=O)N2C(=O)c3ccccc3C...\n",
       "3                         Clc1ccc(-c2nnc3n2CCCS3)cc1\n",
       "4  CN(C(=O)/C(N=Nc1cccc(C(F)(F)F)c1)=C(\\O)C(F)(F)..."
      ]
     },
     "execution_count": 22,
     "metadata": {},
     "output_type": "execute_result"
    }
   ],
   "source": [
    "df_smile = pd.read_csv(data_dir / smiles_list_file, sep=' ', header=None)\n",
    "df_smile.columns = ['smiles']\n",
    "df_smile.head()"
   ]
  },
  {
   "cell_type": "code",
   "execution_count": 28,
   "id": "a6fbc5e9-7968-46d1-bac9-151e80b36c4f",
   "metadata": {},
   "outputs": [],
   "source": [
    "def is_chiral_from_smiles(smiles):\n",
    "    \"\"\"Fallback: detect chirality from SMILES if 3D info is missing.\"\"\"\n",
    "    mol = Chem.MolFromSmiles(smiles)\n",
    "    if mol is None:\n",
    "        return False\n",
    "    chiral_centers = Chem.FindMolChiralCenters(mol, includeUnassigned=True)\n",
    "    return len(chiral_centers) > 0\n",
    "\n",
    "def process_smiles_file(df, smiles_column='smiles'):\n",
    "    \"\"\"Process a CSV file with SMILES strings.\"\"\"\n",
    "    chiral_mols = []\n",
    "\n",
    "    for idx, row in tqdm(df.iterrows(), total=df.shape[0]):\n",
    "        smiles = row[smiles_column]\n",
    "        if is_chiral_from_smiles(smiles):\n",
    "            chiral_mols.append((idx, smiles))\n",
    "    \n",
    "    return chiral_mols\n",
    "\n",
    "def save_chiral_molecules(chiral_mols, output_file='chiral_molecules.csv'):\n",
    "    df = pd.DataFrame(chiral_mols, columns=['Index', 'SMILES'])\n",
    "    df.to_csv(output_file, index=False)\n",
    "    print(f\"Saved {len(chiral_mols)} chiral molecules to {output_file}\")"
   ]
  },
  {
   "cell_type": "code",
   "execution_count": 29,
   "id": "1244e189-180a-4a00-ac9f-b9f80c5a02a4",
   "metadata": {},
   "outputs": [
    {
     "name": "stderr",
     "output_type": "stream",
     "text": [
      "100%|██████████████████████████████████████████████████████████████████████████████████████████████████| 292035/292035 [00:47<00:00, 6136.85it/s]\n"
     ]
    },
    {
     "name": "stdout",
     "output_type": "stream",
     "text": [
      "Saved 78634 chiral molecules to data/geom/chiral_molecules.csv\n"
     ]
    }
   ],
   "source": [
    "chiral_molecules = process_smiles_file(df_smile, smiles_column='smiles')\n",
    "output_file = 'chiral_molecules.csv'\n",
    "save_chiral_molecules(chiral_molecules, output_file=data_dir / output_file)"
   ]
  },
  {
   "cell_type": "code",
   "execution_count": 33,
   "id": "868a30a1-ca88-4134-86cf-2ae83d05be1f",
   "metadata": {},
   "outputs": [
    {
     "name": "stdout",
     "output_type": "stream",
     "text": [
      "Percentage of molecules that are chiral: 26.926224596366872%\n"
     ]
    }
   ],
   "source": [
    "print(f'Percentage of molecules that are chiral: {len(chiral_molecules)/df_smile.shape[0]*100}%')"
   ]
  },
  {
   "cell_type": "markdown",
   "id": "60ba1c26-0af2-41c9-9831-273da8ca6a47",
   "metadata": {},
   "source": [
    "### Create artificial mirror images"
   ]
  },
  {
   "cell_type": "code",
   "execution_count": null,
   "id": "28b01b24-f1b6-473e-9234-3e0d1eeb8a2b",
   "metadata": {},
   "outputs": [],
   "source": [
    "import numpy as np\n",
    "from pathlib import Path \n",
    "\n",
    "def reflect_dataset(input_file, output_file, axis=0):\n",
    "    \"\"\"\n",
    "    Reflects molecules in the dataset along a specified axis.\n",
    "\n",
    "    Args:\n",
    "        input_file (str): Path to the original conformers (.npy file).\n",
    "        output_file (str): Path to save the reflected conformers.\n",
    "        axis (int): 0 = x-axis, 1 = y-axis, 2 = z-axis.\n",
    "    \"\"\"\n",
    "    print(f\"Loading data from {input_file}...\")\n",
    "    dataset = np.load(input_file)\n",
    "\n",
    "    print(f\"Original dataset shape: {dataset.shape}\")\n",
    "    reflected_dataset = dataset.copy()\n",
    "    \n",
    "    # axis+2 because dataset format is (mol_id, atomic_number, x, y, z)\n",
    "    reflected_dataset[:, axis + 2] *= -1.0\n",
    "\n",
    "    print(f\"Saving reflected dataset to {output_file}...\")\n",
    "    np.save(output_file, reflected_dataset)\n",
    "    print(\"Done.\")\n",
    "\n",
    "# Example usage:\n",
    "if __name__ == \"__main__\":\n",
    "    data_dir = Path('../data/geom/')\n",
    "\n",
    "    input_filename = Path(\"geom_drugs_chiral_30.npy\")\n",
    "    output_filename = Path(\"geom_drugs_chiral_30_mirrored.npy\")\n",
    "\n",
    "    reflect_dataset(\n",
    "        data_dir/input_filename, \n",
    "        data_dir/output_filename, \n",
    "        axis=0\n",
    "    )  # reflect along x-axis"
   ]
  },
  {
   "cell_type": "markdown",
   "id": "f4c68ece-1dac-4d23-99e0-7f9ea4bfca85",
   "metadata": {},
   "source": [
    "### Pass the molecules through the model"
   ]
  },
  {
   "cell_type": "code",
   "execution_count": 7,
   "id": "8211e921-7b86-4555-b5b9-d5b9b381283b",
   "metadata": {},
   "outputs": [],
   "source": [
    "\n",
    "import pickle\n",
    "model_path = Path('outputs/drugs_latent2/')\n",
    "with open(model_path/ Path('args.pickle'), 'rb') as f:\n",
    "        args = pickle.load(f)"
   ]
  },
  {
   "cell_type": "code",
   "execution_count": 8,
   "id": "22890000-cee6-4619-8815-aee2c5f19f5a",
   "metadata": {},
   "outputs": [
    {
     "data": {
      "text/plain": [
       "Namespace(exp_name='rld_fixsig_enc1_latent2_geom_drugs', train_diffusion=True, ae_path=None, trainable_ae=True, latent_nf=2, kl_weight=0.01, model='egnn_dynamics', probabilistic_model='diffusion', diffusion_steps=1000, diffusion_noise_schedule='polynomial_2', diffusion_loss_type='l2', diffusion_noise_precision=1e-05, n_epochs=3000, batch_size=32, lr=0.0001, break_train_epoch=False, dp=True, condition_time=True, clip_grad=True, trace='hutch', n_layers=4, inv_sublayers=1, nf=256, tanh=True, attention=True, norm_constant=1, sin_embedding=False, ode_regularization=0.001, dataset='geom', filter_n_atoms=None, dequantization='argmax_variational', n_report_steps=50, wandb_usr=None, no_wandb=False, online=True, no_cuda=False, save_model=True, generate_epochs=1, num_workers=0, test_epochs=1, data_augmentation=False, conditioning=[], resume=None, start_epoch=0, ema_decay=0.9999, augment_noise=0, n_stability_samples=500, normalize_factors=[1, 4, 10], remove_h=False, include_charges=False, visualize_every_batch=10000, normalization_factor=1.0, aggregation_method='sum', filter_molecule_size=None, sequential=False, cuda=True, context_node_nf=0, current_epoch=13)"
      ]
     },
     "execution_count": 8,
     "metadata": {},
     "output_type": "execute_result"
    }
   ],
   "source": [
    "args"
   ]
  },
  {
   "cell_type": "code",
   "execution_count": null,
   "id": "9f37c40a-ad53-492c-a003-17e34ea697bc",
   "metadata": {},
   "outputs": [],
   "source": []
  }
 ],
 "metadata": {
  "kernelspec": {
   "display_name": "Python 3 (ipykernel)",
   "language": "python",
   "name": "python3"
  },
  "language_info": {
   "codemirror_mode": {
    "name": "ipython",
    "version": 3
   },
   "file_extension": ".py",
   "mimetype": "text/x-python",
   "name": "python",
   "nbconvert_exporter": "python",
   "pygments_lexer": "ipython3",
   "version": "3.13.3"
  }
 },
 "nbformat": 4,
 "nbformat_minor": 5
}
